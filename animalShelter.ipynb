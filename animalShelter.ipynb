{
  "cells": [
    {
      "cell_type": "code",
      "execution_count": 2,
      "metadata": {
        "id": "EJLoU5XMfDGM"
      },
      "outputs": [],
      "source": [
        "#hayvanlar.txt adinda bir dosyanin upload edilmesi gerekli\n",
        "def kayit():\n",
        "    print(\"\"\"\n",
        "    Kayit etmek istediginiz hayvani ve adini giriniz . Cikis icin q 'ya basiniz\n",
        "    Virgül kullanimina dikkat ediniz!\n",
        "    örnek : köpek,comar   veya   kedi,mavis\"\"\")\n",
        "    while True:\n",
        "        kayit = input(\"    kayit :\").lower()\n",
        "        if kayit == \"q\":\n",
        "            break\n",
        "        with open (\"hayvanlar.txt\" , \"a\" , encoding=\"utf-8\") as k:\n",
        "            k.write(kayit)\n",
        "            k.write(\"\\n\")\n",
        "\n",
        "def sahiplendir():\n",
        "    print(\"\"\" \n",
        "    Asagidaki opsiyonlardan birini seciniz  : \n",
        "    1 : Barinakda en uzun süre kalan hayvani sahiplen\n",
        "    2 : Kedi sahiplen \n",
        "    3 : Köpek sahiplen\n",
        "    q : cikis   \\n\"\"\")\n",
        "    print()\n",
        "    def sil():\n",
        "        print('    {} sahiplendirildi.'.format(silinecek.replace(\"\\n\",\" \")))       \n",
        "        with open(\"hayvanlar.txt\", \"w\", encoding=\"utf-8\") as f:\n",
        "            for i in hayvanlar_listesi:\n",
        "                if i != silinecek:\n",
        "                    f.write(i)\n",
        "            \n",
        "    while True:\n",
        "        secim=input(\"    secim : \")\n",
        "        if secim == \"q\":\n",
        "            break\n",
        "                                    \n",
        "        with open (\"hayvanlar.txt\" , \"r\" , encoding=\"utf-8\") as s:\n",
        "            hayvanlar_listesi = s.readlines()\n",
        "            if secim == \"1\":\n",
        "                silinecek=hayvanlar_listesi[0]\n",
        "                sil()\n",
        "\n",
        "            for silinecek in hayvanlar_listesi:\n",
        "                indis=silinecek.find(\",\")\n",
        "                dilim = silinecek[:indis]\n",
        "                if secim == \"2\":\n",
        "                    if \"kedi\" in dilim:                        \n",
        "                        sil()\n",
        "                        break\n",
        "                if secim == \"3\":           \n",
        "                    if \"köpek\" in dilim:\n",
        "                        sil()\n",
        "                        break"
      ]
    },
    {
      "cell_type": "code",
      "execution_count": 3,
      "metadata": {
        "id": "vb0GFZdK3lLX"
      },
      "outputs": [
        {
          "name": "stdout",
          "output_type": "stream",
          "text": [
            "\n",
            "    Kayit etmek istediginiz hayvani ve adini giriniz . Cikis icin q 'ya basiniz\n",
            "    Virgül kullanimina dikkat ediniz!\n",
            "    örnek : köpek,comar   veya   kedi,mavis\n"
          ]
        }
      ],
      "source": [
        "kayit()"
      ]
    },
    {
      "cell_type": "code",
      "execution_count": null,
      "metadata": {
        "id": "V3ivePZB6Qmr"
      },
      "outputs": [],
      "source": [
        "sahiplendir()"
      ]
    }
  ],
  "metadata": {
    "colab": {
      "collapsed_sections": [],
      "name": "animal__shelter.ipynb",
      "provenance": []
    },
    "kernelspec": {
      "display_name": "Python 3.10.5 64-bit",
      "language": "python",
      "name": "python3"
    },
    "language_info": {
      "codemirror_mode": {
        "name": "ipython",
        "version": 3
      },
      "file_extension": ".py",
      "mimetype": "text/x-python",
      "name": "python",
      "nbconvert_exporter": "python",
      "pygments_lexer": "ipython3",
      "version": "3.10.5"
    },
    "vscode": {
      "interpreter": {
        "hash": "f188655bfd06e36fa9a0bb5cad83e9f2528f84eba3649f1518f14a0474709606"
      }
    }
  },
  "nbformat": 4,
  "nbformat_minor": 0
}
